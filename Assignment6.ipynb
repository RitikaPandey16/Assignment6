{
 "cells": [
  {
   "cell_type": "code",
   "execution_count": 2,
   "id": "d6c066dc-0422-48f7-803b-e235ac2b240c",
   "metadata": {},
   "outputs": [
    {
     "name": "stdin",
     "output_type": "stream",
     "text": [
      "Enter your percentage:  92\n"
     ]
    },
    {
     "name": "stdout",
     "output_type": "stream",
     "text": [
      "Your grade is: A\n"
     ]
    }
   ],
   "source": [
    "#Q1 Write a program to accept percentage from the user and display the grade according to the following criteria:\n",
    "#if marks >90 then A,>80 and <=90 then B,>=60 and <=80 then C and below 60 then D\n",
    "# Accept percentage from the user\n",
    "percentage = float(input(\"Enter your percentage: \"))\n",
    "\n",
    "# Check the grade based on the percentage\n",
    "if percentage > 90:\n",
    "    grade = 'A'\n",
    "elif 80 < percentage <= 90:\n",
    "    grade = 'B'\n",
    "elif 60 <= percentage <= 80:\n",
    "    grade = 'C'\n",
    "else:\n",
    "    grade = 'D'\n",
    "\n",
    "# Display the grade\n",
    "print(f\"Your grade is: {grade}\")\n"
   ]
  },
  {
   "cell_type": "code",
   "execution_count": 4,
   "id": "6b0e9206-f6dd-4335-9744-a40df6802791",
   "metadata": {},
   "outputs": [
    {
     "name": "stdin",
     "output_type": "stream",
     "text": [
      "Enter the cost price of the bike:  500000\n"
     ]
    },
    {
     "name": "stdout",
     "output_type": "stream",
     "text": [
      "The road tax to be paid is: ₹75000.00\n"
     ]
    }
   ],
   "source": [
    "#Q2. Write a program to accept the cost price of a bike and display the road tax to be paid according to the following criteria:\n",
    "   # if cost price >100000 then tax 15%,if cost price >50000 and <=100000 then tax 10% and cost price <=50000 then tax 5%\n",
    "# Accept the cost price of the bike from the user\n",
    "cost_price = float(input(\"Enter the cost price of the bike: \"))\n",
    "\n",
    "# Calculate the tax based on the cost price\n",
    "if cost_price > 100000:\n",
    "    tax = 0.15 * cost_price  # 15% tax\n",
    "elif 50000 < cost_price <= 100000:\n",
    "    tax = 0.10 * cost_price  # 10% tax\n",
    "else:\n",
    "    tax = 0.05 * cost_price  # 5% tax\n",
    "\n",
    "# Display the road tax\n",
    "print(f\"The road tax to be paid is: ₹{tax:.2f}\")\n"
   ]
  },
  {
   "cell_type": "code",
   "execution_count": 6,
   "id": "22711c89-6ec5-488a-b8af-c49c98f108e7",
   "metadata": {},
   "outputs": [
    {
     "name": "stdin",
     "output_type": "stream",
     "text": [
      "Enter the city name:  jaipur\n"
     ]
    },
    {
     "name": "stdout",
     "output_type": "stream",
     "text": [
      "The monument of Jaipur is: Jal Mahal\n"
     ]
    }
   ],
   "source": [
    "#Q3 Accept any city from the user and display monuments of that city.\n",
    "    #if city=delhi then monument=red fort,if city=agra then monument=taj mahal and if city=jaipur then monument=jal mahal.\n",
    "# Accept the city name from the user\n",
    "city = input(\"Enter the city name: \").strip().lower()\n",
    "\n",
    "# Display the monument based on the city\n",
    "if city == \"delhi\":\n",
    "    monument = \"Red Fort\"\n",
    "elif city == \"agra\":\n",
    "    monument = \"Taj Mahal\"\n",
    "elif city == \"jaipur\":\n",
    "    monument = \"Jal Mahal\"\n",
    "else:\n",
    "    monument = \"Sorry, information about this city is not available.\"\n",
    "\n",
    "# Output the result\n",
    "print(f\"The monument of {city.title()} is: {monument}\")\n"
   ]
  },
  {
   "cell_type": "code",
   "execution_count": 8,
   "id": "8aa1077c-7683-425b-885d-e2cb29e9fabd",
   "metadata": {},
   "outputs": [
    {
     "name": "stdin",
     "output_type": "stream",
     "text": [
      "Enter a number:  77\n"
     ]
    },
    {
     "name": "stdout",
     "output_type": "stream",
     "text": [
      "The number can be divided by 3 a total of 2 times before it becomes less than or equal to 10.\n"
     ]
    }
   ],
   "source": [
    "#Q4. Check how many times a given number can be divided by three before it is less than or equal to 10.\n",
    "# Accept the number from the user\n",
    "number = float(input(\"Enter a number: \"))\n",
    "\n",
    "# Initialize a counter for the number of divisions\n",
    "count = 0\n",
    "\n",
    "# Loop to divide the number by 3 until it is less than or equal to 10\n",
    "while number > 10:\n",
    "    number /= 3\n",
    "    count += 1\n",
    "\n",
    "# Display the result\n",
    "print(f\"The number can be divided by 3 a total of {count} times before it becomes less than or equal to 10.\")\n"
   ]
  },
  {
   "cell_type": "code",
   "execution_count": 10,
   "id": "b0c4ad62-1f65-4314-8cfe-af663c3f2934",
   "metadata": {},
   "outputs": [
    {
     "name": "stdout",
     "output_type": "stream",
     "text": [
      "1\n",
      "2\n",
      "3\n",
      "4\n",
      "5\n"
     ]
    }
   ],
   "source": [
    "#Q5. Why and when to use while loop in python give a detailed description with example.\n",
    "'''A while loop is used to repeat a block of code as long as a specific condition is true. \n",
    "It's particularly useful in scenarios where the number of iterations is not known beforehand\n",
    "and depends on the outcome of a condition during runtime.'''\n",
    "i = 1\n",
    "while i <= 5:\n",
    "    print(i)\n",
    "    i += 1\n"
   ]
  },
  {
   "cell_type": "code",
   "execution_count": 12,
   "id": "00a7da7e-299d-40e7-9f30-d2e2f5118034",
   "metadata": {},
   "outputs": [
    {
     "name": "stdout",
     "output_type": "stream",
     "text": [
      "* \n",
      "* * \n",
      "* * * \n",
      "* * * * \n",
      "* * * * * \n"
     ]
    }
   ],
   "source": [
    "#Q6. Use nested while loop to print 3 different pattern.\n",
    "#pattern 1\n",
    "rows = 5\n",
    "i = 1\n",
    "while i <= rows:\n",
    "    j = 1\n",
    "    while j <= i:\n",
    "        print(\"*\", end=\" \")\n",
    "        j += 1\n",
    "    print()  # Move to the next line after each row\n",
    "    i += 1\n"
   ]
  },
  {
   "cell_type": "code",
   "execution_count": 14,
   "id": "e82b4a24-7f24-41be-9fe5-d125a6bd8cd2",
   "metadata": {},
   "outputs": [
    {
     "name": "stdout",
     "output_type": "stream",
     "text": [
      "1 \n",
      "1 2 \n",
      "1 2 3 \n",
      "1 2 3 4 \n",
      "1 2 3 4 5 \n"
     ]
    }
   ],
   "source": [
    "#pattern 2\n",
    "rows = 5\n",
    "i = 1\n",
    "while i <= rows:\n",
    "    j = 1\n",
    "    while j <= i:\n",
    "        print(j, end=\" \")\n",
    "        j += 1\n",
    "    print()  # Move to the next line after each row\n",
    "    i += 1\n"
   ]
  },
  {
   "cell_type": "code",
   "execution_count": 16,
   "id": "d979fadc-23c0-49a4-a1b0-665c2d2e2b07",
   "metadata": {},
   "outputs": [
    {
     "name": "stdout",
     "output_type": "stream",
     "text": [
      "* * * * * \n",
      "* * * * \n",
      "* * * \n",
      "* * \n",
      "* \n"
     ]
    }
   ],
   "source": [
    "#pattern 3\n",
    "rows = 5\n",
    "i = rows\n",
    "while i >= 1:\n",
    "    j = 1\n",
    "    while j <= i:\n",
    "        print(\"*\", end=\" \")\n",
    "        j += 1\n",
    "    print()  # Move to the next line after each row\n",
    "    i -= 1\n"
   ]
  },
  {
   "cell_type": "code",
   "execution_count": null,
   "id": "37da4720-76fc-49ff-9d12-8446dc6bc7ac",
   "metadata": {},
   "outputs": [],
   "source": [
    "#Q7.Reverse a while loop to display "
   ]
  }
 ],
 "metadata": {
  "kernelspec": {
   "display_name": "Python 3 (ipykernel)",
   "language": "python",
   "name": "python3"
  },
  "language_info": {
   "codemirror_mode": {
    "name": "ipython",
    "version": 3
   },
   "file_extension": ".py",
   "mimetype": "text/x-python",
   "name": "python",
   "nbconvert_exporter": "python",
   "pygments_lexer": "ipython3",
   "version": "3.12.4"
  }
 },
 "nbformat": 4,
 "nbformat_minor": 5
}
